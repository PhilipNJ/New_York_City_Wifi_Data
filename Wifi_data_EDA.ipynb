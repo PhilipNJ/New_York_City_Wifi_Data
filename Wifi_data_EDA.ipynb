{
 "cells": [
  {
   "cell_type": "markdown",
   "id": "2ad7c825",
   "metadata": {},
   "source": [
    "# <center> Wi-Fi Dataset EDA </center>"
   ]
  },
  {
   "cell_type": "markdown",
   "id": "eb60427c",
   "metadata": {},
   "source": [
    "## 1. Objective"
   ]
  },
  {
   "cell_type": "markdown",
   "id": "3a429ce2",
   "metadata": {},
   "source": [
    "### Business Context\n",
    "\n",
    "* The demand and usage of the internet is growing across the globe and public wifi is becoming a new normal as we move forward. Wifi providers want to optimize the cost while providing the free and paid wifi. Here, we have a use case of public WiFi hotspots in New York City.\n",
    "* The information comprises of records for every public WiFi hotspot (ones provided by or in partnership with the city) in New York City.\n",
    "* We would analyze the data and try to infer if the free public WiFi tends to cluster around certain (more affluent) areas."
   ]
  },
  {
   "cell_type": "markdown",
   "id": "e548347f",
   "metadata": {},
   "source": [
    "### Goal / Ask\n",
    "* Based on the business context, we will be using unsupervised learning techniques such as clustering in order to identify clusters of wifi providers in the specific locations.\n",
    "* However, prior to that, we need to answer few business questions by performing EDA (Exploratory Data Analysis) to understand the data.\n",
    "* In this assignment, focus is limited to EDA. Please refer to the dataset shared."
   ]
  },
  {
   "cell_type": "markdown",
   "id": "25773709",
   "metadata": {},
   "source": [
    "## 2. Dataset Information"
   ]
  },
  {
   "cell_type": "markdown",
   "id": "732ad765",
   "metadata": {},
   "source": [
    "* Dataset has 10 columns/features and 2500+ records\n",
    "* OBJECTID – unique identifier\n",
    "* BORO – Borough of New York City (BX-Bronx, QU-Queens, MN-Manhattan, BK-Brooklyn, SI-Staten Island)\n",
    "* TYPE – Type of wi-fi provided by the franchise\n",
    "* PROVIDER – Franchise who is providing the wifi connection\n",
    "* LAT – Latitude\n",
    "* LON – Longitude\n",
    "* LOCATION_T – Type of location that a wi-fi hotspot is present in\n",
    "* CITY – The city in which the hotspot is located\n",
    "* BoroCode – The NY City borough where the hotspots are located\n",
    "* NTACode – Neighbourhood Tab Access by number"
   ]
  },
  {
   "cell_type": "markdown",
   "id": "b3f41198",
   "metadata": {},
   "source": [
    "## 3. Business Questions for EDA"
   ]
  },
  {
   "cell_type": "markdown",
   "id": "1e7ba6d2",
   "metadata": {},
   "source": [
    "### Import relevant packages"
   ]
  },
  {
   "cell_type": "code",
   "execution_count": 1,
   "id": "6193e0bf",
   "metadata": {},
   "outputs": [],
   "source": [
    "import pandas as pd\n",
    "import seaborn as sns\n",
    "import matplotlib as plt\n",
    "from scipy.stats import chi2_contingency"
   ]
  },
  {
   "cell_type": "markdown",
   "id": "c5b4f6dd",
   "metadata": {},
   "source": [
    "### 1. Get the data provided, check frequency distribution of the features, drop irrelevant and redundant features if any and state your inferences? "
   ]
  },
  {
   "cell_type": "markdown",
   "id": "b798d81b",
   "metadata": {
    "heading_collapsed": true
   },
   "source": [
    "#### Import the data and print a sample"
   ]
  },
  {
   "cell_type": "code",
   "execution_count": 2,
   "id": "8a77237b",
   "metadata": {
    "hidden": true
   },
   "outputs": [
    {
     "data": {
      "text/html": [
       "<div>\n",
       "<style scoped>\n",
       "    .dataframe tbody tr th:only-of-type {\n",
       "        vertical-align: middle;\n",
       "    }\n",
       "\n",
       "    .dataframe tbody tr th {\n",
       "        vertical-align: top;\n",
       "    }\n",
       "\n",
       "    .dataframe thead th {\n",
       "        text-align: right;\n",
       "    }\n",
       "</style>\n",
       "<table border=\"1\" class=\"dataframe\">\n",
       "  <thead>\n",
       "    <tr style=\"text-align: right;\">\n",
       "      <th></th>\n",
       "      <th>OBJECTID</th>\n",
       "      <th>Borough</th>\n",
       "      <th>Type</th>\n",
       "      <th>Provider</th>\n",
       "      <th>Latitude</th>\n",
       "      <th>Longitude</th>\n",
       "      <th>Location_T</th>\n",
       "      <th>City</th>\n",
       "      <th>BoroCode</th>\n",
       "      <th>NTACode</th>\n",
       "    </tr>\n",
       "  </thead>\n",
       "  <tbody>\n",
       "    <tr>\n",
       "      <th>978</th>\n",
       "      <td>902.0</td>\n",
       "      <td>BK</td>\n",
       "      <td>Limited Free</td>\n",
       "      <td>SPECTRUM</td>\n",
       "      <td>40.715088</td>\n",
       "      <td>-73.960502</td>\n",
       "      <td>Indoor</td>\n",
       "      <td>Brooklyn</td>\n",
       "      <td>3.0</td>\n",
       "      <td>BK73</td>\n",
       "    </tr>\n",
       "    <tr>\n",
       "      <th>2293</th>\n",
       "      <td>2292.0</td>\n",
       "      <td>BK</td>\n",
       "      <td>Free</td>\n",
       "      <td>Transit Wireless</td>\n",
       "      <td>40.677050</td>\n",
       "      <td>-73.972367</td>\n",
       "      <td>Subway Station</td>\n",
       "      <td>Brooklyn</td>\n",
       "      <td>3.0</td>\n",
       "      <td>BK64</td>\n",
       "    </tr>\n",
       "    <tr>\n",
       "      <th>1286</th>\n",
       "      <td>2249.0</td>\n",
       "      <td>MN</td>\n",
       "      <td>Free</td>\n",
       "      <td>Transit Wireless</td>\n",
       "      <td>40.724329</td>\n",
       "      <td>-73.997702</td>\n",
       "      <td>Subway Station</td>\n",
       "      <td>New York</td>\n",
       "      <td>1.0</td>\n",
       "      <td>MN24</td>\n",
       "    </tr>\n",
       "    <tr>\n",
       "      <th>2108</th>\n",
       "      <td>1305.0</td>\n",
       "      <td>SI</td>\n",
       "      <td>Limited Free</td>\n",
       "      <td>SPECTRUM</td>\n",
       "      <td>40.626860</td>\n",
       "      <td>-74.075848</td>\n",
       "      <td>Outdoor TWC Aerial</td>\n",
       "      <td>Staten Island</td>\n",
       "      <td>5.0</td>\n",
       "      <td>SI37</td>\n",
       "    </tr>\n",
       "    <tr>\n",
       "      <th>291</th>\n",
       "      <td>215.0</td>\n",
       "      <td>BK</td>\n",
       "      <td>Free</td>\n",
       "      <td>Downtown Brooklyn</td>\n",
       "      <td>40.692417</td>\n",
       "      <td>-73.987117</td>\n",
       "      <td>Outdoor</td>\n",
       "      <td>Brooklyn</td>\n",
       "      <td>3.0</td>\n",
       "      <td>BK38</td>\n",
       "    </tr>\n",
       "    <tr>\n",
       "      <th>1458</th>\n",
       "      <td>1771.0</td>\n",
       "      <td>BK</td>\n",
       "      <td>Free</td>\n",
       "      <td>BPL</td>\n",
       "      <td>40.605690</td>\n",
       "      <td>-73.986232</td>\n",
       "      <td>Library</td>\n",
       "      <td>Brooklyn</td>\n",
       "      <td>3.0</td>\n",
       "      <td>BK29</td>\n",
       "    </tr>\n",
       "    <tr>\n",
       "      <th>454</th>\n",
       "      <td>378.0</td>\n",
       "      <td>QU</td>\n",
       "      <td>Free</td>\n",
       "      <td>QPL</td>\n",
       "      <td>40.729253</td>\n",
       "      <td>-73.781909</td>\n",
       "      <td>Library</td>\n",
       "      <td>Flushing</td>\n",
       "      <td>4.0</td>\n",
       "      <td>QN41</td>\n",
       "    </tr>\n",
       "    <tr>\n",
       "      <th>2435</th>\n",
       "      <td>2435.0</td>\n",
       "      <td>QU</td>\n",
       "      <td>Free</td>\n",
       "      <td>LinkNYC - Citybridge</td>\n",
       "      <td>40.744278</td>\n",
       "      <td>-73.930399</td>\n",
       "      <td>Outdoor Kiosk</td>\n",
       "      <td>Queens</td>\n",
       "      <td>4.0</td>\n",
       "      <td>QN31</td>\n",
       "    </tr>\n",
       "    <tr>\n",
       "      <th>775</th>\n",
       "      <td>700.0</td>\n",
       "      <td>BX</td>\n",
       "      <td>Free</td>\n",
       "      <td>LinkNYC - Citybridge</td>\n",
       "      <td>40.864870</td>\n",
       "      <td>-73.892800</td>\n",
       "      <td>Outdoor Kiosk</td>\n",
       "      <td>Bronx</td>\n",
       "      <td>2.0</td>\n",
       "      <td>BX05</td>\n",
       "    </tr>\n",
       "    <tr>\n",
       "      <th>1244</th>\n",
       "      <td>2207.0</td>\n",
       "      <td>MN</td>\n",
       "      <td>Free</td>\n",
       "      <td>Transit Wireless</td>\n",
       "      <td>40.773620</td>\n",
       "      <td>-73.959874</td>\n",
       "      <td>Subway Station</td>\n",
       "      <td>New York</td>\n",
       "      <td>1.0</td>\n",
       "      <td>MN40</td>\n",
       "    </tr>\n",
       "  </tbody>\n",
       "</table>\n",
       "</div>"
      ],
      "text/plain": [
       "      OBJECTID Borough          Type              Provider   Latitude  \\\n",
       "978      902.0      BK  Limited Free              SPECTRUM  40.715088   \n",
       "2293    2292.0      BK          Free      Transit Wireless  40.677050   \n",
       "1286    2249.0      MN          Free      Transit Wireless  40.724329   \n",
       "2108    1305.0      SI  Limited Free              SPECTRUM  40.626860   \n",
       "291      215.0      BK          Free     Downtown Brooklyn  40.692417   \n",
       "1458    1771.0      BK          Free                   BPL  40.605690   \n",
       "454      378.0      QU          Free                   QPL  40.729253   \n",
       "2435    2435.0      QU          Free  LinkNYC - Citybridge  40.744278   \n",
       "775      700.0      BX          Free  LinkNYC - Citybridge  40.864870   \n",
       "1244    2207.0      MN          Free      Transit Wireless  40.773620   \n",
       "\n",
       "      Longitude          Location_T           City  BoroCode NTACode  \n",
       "978  -73.960502              Indoor       Brooklyn       3.0    BK73  \n",
       "2293 -73.972367      Subway Station       Brooklyn       3.0    BK64  \n",
       "1286 -73.997702      Subway Station       New York       1.0    MN24  \n",
       "2108 -74.075848  Outdoor TWC Aerial  Staten Island       5.0    SI37  \n",
       "291  -73.987117             Outdoor       Brooklyn       3.0    BK38  \n",
       "1458 -73.986232             Library       Brooklyn       3.0    BK29  \n",
       "454  -73.781909             Library       Flushing       4.0    QN41  \n",
       "2435 -73.930399       Outdoor Kiosk         Queens       4.0    QN31  \n",
       "775  -73.892800       Outdoor Kiosk          Bronx       2.0    BX05  \n",
       "1244 -73.959874      Subway Station       New York       1.0    MN40  "
      ]
     },
     "execution_count": 2,
     "metadata": {},
     "output_type": "execute_result"
    }
   ],
   "source": [
    "df = pd.read_excel('wifi_data.xlsx')\n",
    "df.sample(10)"
   ]
  },
  {
   "cell_type": "markdown",
   "id": "5efcdfae",
   "metadata": {
    "heading_collapsed": true
   },
   "source": [
    "#### Get frequency distribution of all columns i.e print number of unique values/categories in each column"
   ]
  },
  {
   "cell_type": "code",
   "execution_count": 3,
   "id": "f87c2091",
   "metadata": {
    "hidden": true
   },
   "outputs": [
    {
     "name": "stdout",
     "output_type": "stream",
     "text": [
      "OBJECTID 2566\n",
      "Borough 5\n",
      "Type 3\n",
      "Provider 15\n",
      "Latitude 2390\n",
      "Longitude 2375\n",
      "Location_T 6\n",
      "City 44\n",
      "BoroCode 5\n",
      "NTACode 178\n"
     ]
    }
   ],
   "source": [
    "for i in df.columns:\n",
    "    n = len(pd.unique(df[i]))\n",
    "    print(i,n)"
   ]
  },
  {
   "cell_type": "markdown",
   "id": "4769f13c",
   "metadata": {},
   "source": [
    "#### Identify and remove irrelevant and redundant features \n",
    "\n",
    "Here we can observe that the following columns have too many unique values and therefore are redundant for our analysis:\n",
    "\n",
    "1. OBJECTID\n",
    "2. Latitude\n",
    "3. Longitude\n",
    "\n",
    "Therefore, we remove the above columns."
   ]
  },
  {
   "cell_type": "code",
   "execution_count": 4,
   "id": "235d4bfd",
   "metadata": {},
   "outputs": [],
   "source": [
    "df = df.drop(['OBJECTID','Latitude','Longitude'], axis=1)"
   ]
  },
  {
   "cell_type": "code",
   "execution_count": 5,
   "id": "d143775c",
   "metadata": {
    "code_folding": []
   },
   "outputs": [],
   "source": [
    "#convert all columns to categorical type\n",
    "for col in df.columns:\n",
    "    df[col] = df[col].astype('category')"
   ]
  },
  {
   "cell_type": "markdown",
   "id": "439f3f11",
   "metadata": {},
   "source": [
    "### 2. Perform univariate and bivariate analysis and answer the following:"
   ]
  },
  {
   "cell_type": "markdown",
   "id": "fdeb0751",
   "metadata": {},
   "source": [
    "#### a) Which provider has the highest number of wi-fi hotspots?"
   ]
  },
  {
   "cell_type": "code",
   "execution_count": 6,
   "id": "daa5377c",
   "metadata": {},
   "outputs": [
    {
     "name": "stdout",
     "output_type": "stream",
     "text": [
      "The provider with the highest number of hotspots is LinkNYC - Citybridge\n"
     ]
    },
    {
     "data": {
      "image/png": "[encoded data removed]",
      "text/plain": [
       "<Figure size 432x288 with 1 Axes>"
      ]
     },
     "metadata": {
      "needs_background": "light"
     },
     "output_type": "display_data"
    }
   ],
   "source": [
    "df['Provider'].value_counts().plot.bar()\n",
    "a = df['Provider'].value_counts().idxmax()\n",
    "print('The provider with the highest number of hotspots is',a)"
   ]
  },
  {
   "cell_type": "markdown",
   "id": "443645ec",
   "metadata": {},
   "source": [
    "#### b) Which provider provides the highest number of free wifi hotspots? Is the second highest provider same for “free wifi hotspots” compared to “all wifi hotspots”?"
   ]
  },
  {
   "cell_type": "code",
   "execution_count": 7,
   "id": "69855695",
   "metadata": {},
   "outputs": [
    {
     "data": {
      "image/png": "[encoded data removed]",
      "text/plain": [
       "<Figure size 432x288 with 1 Axes>"
      ]
     },
     "metadata": {
      "needs_background": "light"
     },
     "output_type": "display_data"
    }
   ],
   "source": [
    "g = sns.countplot(y='Provider', hue='Type', data=df, order = df['Provider'].value_counts().index)"
   ]
  },
  {
   "cell_type": "markdown",
   "id": "651e5ad4",
   "metadata": {},
   "source": [
    "The highest provider of free hotspots is the same the highest provider of hotspots overall - **LinkNyc - Citybridge**.\n",
    "However, **Spectrum** which is the second highest provider for \"all wifi hotspots\" is not the second highest provider of \"free wifi hotspots\""
   ]
  },
  {
   "cell_type": "markdown",
   "id": "08b745b4",
   "metadata": {},
   "source": [
    "#### c) List down the name of providers that provide “Limited Free” type of wifi?"
   ]
  },
  {
   "cell_type": "code",
   "execution_count": 8,
   "id": "d88fff35",
   "metadata": {},
   "outputs": [
    {
     "name": "stdout",
     "output_type": "stream",
     "text": [
      "The name of providers that provide “Limited Free” type of wifi are\n"
     ]
    },
    {
     "data": {
      "text/plain": [
       "SPECTRUM                   343\n",
       "ALTICEUSA                  237\n",
       "AT&T                         1\n",
       "BPL                          0\n",
       "Chelsea                      0\n",
       "City Tech                    0\n",
       "Downtown Brooklyn            0\n",
       "Harlem                       0\n",
       "LinkNYC - Citybridge         0\n",
       "Manhattan Down Alliance      0\n",
       "NYCHA                        0\n",
       "NYPL                         0\n",
       "Partner                      0\n",
       "QPL                          0\n",
       "Transit Wireless             0\n",
       "Name: Provider, dtype: int64"
      ]
     },
     "execution_count": 8,
     "metadata": {},
     "output_type": "execute_result"
    }
   ],
   "source": [
    "print('The name of providers that provide “Limited Free” type of wifi are')\n",
    "(df.loc[df['Type'] == 'Limited Free']).Provider.value_counts()"
   ]
  },
  {
   "cell_type": "markdown",
   "id": "ce9b7723",
   "metadata": {},
   "source": [
    "#### d) What is the correlation coefficient between borough and BoroCode?"
   ]
  },
  {
   "cell_type": "code",
   "execution_count": 9,
   "id": "3834d550",
   "metadata": {},
   "outputs": [
    {
     "name": "stdout",
     "output_type": "stream",
     "text": [
      "BoroCode   1.0  2.0  3.0  4.0  5.0\n",
      "Borough                           \n",
      "BK           1    0  593    1    0\n",
      "BX           0  257    0    0    0\n",
      "MN        1204    0    0    0    0\n",
      "QU           0    0    0  415    0\n",
      "SI           0    0    0    0   95\n"
     ]
    }
   ],
   "source": [
    "CrosstabResult=pd.crosstab(index=df['Borough'],columns=df['BoroCode'])\n",
    "print(CrosstabResult)"
   ]
  },
  {
   "cell_type": "markdown",
   "id": "b87c31e0",
   "metadata": {},
   "source": [
    "_Define the hypothesis:_\n",
    "\n",
    "<p> H0: The two columns are not related to each other<br>\n",
    "H1: The two columns are related to each other</p>\n",
    "\n",
    "We perform a Chi-square test to check the correlation between the two variables. \n",
    "If the p-value is greater than 0.5, then we accept H0. The closer the p-values is to 0, the higher the correlation."
   ]
  },
  {
   "cell_type": "code",
   "execution_count": 10,
   "id": "1b646a88",
   "metadata": {},
   "outputs": [
    {
     "name": "stdout",
     "output_type": "stream",
     "text": [
      "The P-Value of the ChiSq Test is: 0.0\n"
     ]
    }
   ],
   "source": [
    "ChiSqResult = chi2_contingency(CrosstabResult)\n",
    "print('The P-Value of the ChiSq Test is:', ChiSqResult[1])"
   ]
  },
  {
   "cell_type": "markdown",
   "id": "20c60468",
   "metadata": {},
   "source": [
    "Therefore, we can conclude that the variables \"Borough\" and \"BoroCode\" are highly correlated with each other."
   ]
  },
  {
   "cell_type": "markdown",
   "id": "e34eada3",
   "metadata": {},
   "source": [
    "#### e) Are there any indoor free wifi hotspots?"
   ]
  },
  {
   "cell_type": "code",
   "execution_count": 11,
   "id": "46a143af",
   "metadata": {},
   "outputs": [
    {
     "data": {
      "text/plain": [
       "<AxesSubplot:xlabel='count', ylabel='Location_T'>"
      ]
     },
     "execution_count": 11,
     "metadata": {},
     "output_type": "execute_result"
    },
    {
     "data": {
      "image/png": "[encoded data removed]",
      "text/plain": [
       "<Figure size 432x288 with 1 Axes>"
      ]
     },
     "metadata": {
      "needs_background": "light"
     },
     "output_type": "display_data"
    }
   ],
   "source": [
    "sns.countplot(hue='Type', y='Location_T', data=df, order = df['Location_T'].value_counts().index)"
   ]
  },
  {
   "cell_type": "markdown",
   "id": "03e383cb",
   "metadata": {},
   "source": [
    "There are no indoor free wi-fi hotspots."
   ]
  },
  {
   "cell_type": "markdown",
   "id": "f610c559",
   "metadata": {},
   "source": [
    "#### f) Which city has the “partner_site” type wifi hotspot? "
   ]
  },
  {
   "cell_type": "code",
   "execution_count": 12,
   "id": "3f1eee8c",
   "metadata": {},
   "outputs": [
    {
     "name": "stdout",
     "output_type": "stream",
     "text": [
      "The city with type \"Partner Site\" is New York\n"
     ]
    }
   ],
   "source": [
    "vc = (df.loc[df['Type'] == 'Partner Site']).City.value_counts()\n",
    "print('The city with type \"Partner Site\" is',vc[vc>0].index[0])"
   ]
  }
 ],
 "metadata": {
  "kernelspec": {
   "display_name": "Python 3 (ipykernel)",
   "language": "python",
   "name": "python3"
  },
  "language_info": {
   "codemirror_mode": {
    "name": "ipython",
    "version": 3
   },
   "file_extension": ".py",
   "mimetype": "text/x-python",
   "name": "python",
   "nbconvert_exporter": "python",
   "pygments_lexer": "ipython3",
   "version": "3.9.7"
  }
 },
 "nbformat": 4,
 "nbformat_minor": 5
}
